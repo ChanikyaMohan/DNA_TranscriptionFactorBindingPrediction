{
 "cells": [
  {
   "cell_type": "code",
   "execution_count": 2,
   "metadata": {},
   "outputs": [
    {
     "name": "stderr",
     "output_type": "stream",
     "text": [
      "C:\\Users\\konya\\Anaconda3\\lib\\site-packages\\h5py\\__init__.py:34: FutureWarning: Conversion of the second argument of issubdtype from `float` to `np.floating` is deprecated. In future, it will be treated as `np.float64 == np.dtype(float).type`.\n",
      "  from ._conv import register_converters as _register_converters\n",
      "Using TensorFlow backend.\n"
     ]
    }
   ],
   "source": [
    "from keras.layers import Dense, Dropout, LSTM, Embedding\n",
    "from keras.preprocessing.sequence import pad_sequences\n",
    "from keras.models import Sequential"
   ]
  },
  {
   "cell_type": "code",
   "execution_count": 3,
   "metadata": {
    "collapsed": true
   },
   "outputs": [],
   "source": [
    "import pandas as pd\n",
    "import numpy as np"
   ]
  },
  {
   "cell_type": "code",
   "execution_count": 30,
   "metadata": {},
   "outputs": [
    {
     "name": "stdout",
     "output_type": "stream",
     "text": [
      "2000\n"
     ]
    }
   ],
   "source": [
    "train_data = pd.read_csv(\"C:\\\\Users\\\\konya\\\\Desktop\\\\DNA TFBP\\\\DNA_TranscriptionFactorBindingPrediction\\\\data\\\\train.csv\");\n",
    "test_data = pd.read_csv(\"C:\\\\Users\\\\konya\\\\Desktop\\\\DNA TFBP\\\\DNA_TranscriptionFactorBindingPrediction\\\\data\\\\test.csv\");\n",
    "train_len = int(len(train_data))\n",
    "print(train_len)"
   ]
  },
  {
   "cell_type": "code",
   "execution_count": 31,
   "metadata": {},
   "outputs": [],
   "source": [
    "#split train data into train and validation data\n",
    "split_ratio = 0.8\n",
    "\n",
    "train_size = int( train_len * (split_ratio))\n",
    "\n",
    "#before taking partitions shuffle rows\n",
    "#this is because all same class tuples are grouped together\n",
    "train_data = train_data.sample(frac=1).reset_index(drop=False)\n",
    "\n",
    "X_train = np.array(train_data['sequence'][0:train_size])\n",
    "Y_train = np.array(train_data['label'][0:train_size])\n",
    "X_test = np.array(train_data['sequence'][train_size:])\n",
    "Y_test = np.array(train_data['label'][train_size:])\n"
   ]
  },
  {
   "cell_type": "code",
   "execution_count": 76,
   "metadata": {},
   "outputs": [
    {
     "name": "stdout",
     "output_type": "stream",
     "text": [
      "OrderedDict([('C', 5555), ('A', 4816), ('G', 7521), ('T', 4508)])\n",
      "1600\n",
      "{'G': 1, 'C': 2, 'A': 3, 'T': 4}\n",
      "{'T': 1362, 'A': 1426, 'G': 1525, 'C': 1522}\n",
      "[0.         1.71122195 1.71362663 1.96229129 0.77651412]\n"
     ]
    }
   ],
   "source": [
    "#preprocessing of DNA sequences\n",
    "from keras.preprocessing.text import Tokenizer\n",
    "tokenizer = Tokenizer(split='', char_level=True)\n",
    "tokenizer.fit_on_texts(X_train)\n",
    "\n",
    "print(tokenizer.word_counts)\n",
    "print(tokenizer.document_count)\n",
    "print(tokenizer.word_index)\n",
    "print(tokenizer.word_docs)\n",
    "\n",
    "encoded_X_train = tokenizer.texts_to_matrix(X_train, mode='tfidf') #ode = freq,count,binary\n",
    "print(encoded_X_train[0])"
   ]
  },
  {
   "cell_type": "code",
   "execution_count": 85,
   "metadata": {},
   "outputs": [],
   "source": [
    "#LSTM model in keras\n",
    "def create_model(input_length):\n",
    "    LSTM_model = Sequential()\n",
    "    print(input_length)\n",
    "    LSTM_model.add(Embedding(4,32, input_length = 5))\n",
    "    LSTM_model.add(LSTM(output_dim=256, activation='sigmoid', recurrent_activation='hard_sigmoid', return_sequences=True))\n",
    "    LSTM_model.add(Dropout(0.5))\n",
    "    LSTM_model.add(LSTM(output_dim=256, activation='sigmoid', recurrent_activation='hard_sigmoid'))\n",
    "    LSTM_model.add(Dropout(0.5))\n",
    "    LSTM_model.add(Dense(1, activation='sigmoid'))\n",
    "\n",
    "\n",
    "    LSTM_model.compile(loss='binary_crossentropy', optimizer='rmsprop', metrics=['accuracy'])\n",
    "    return LSTM_model"
   ]
  },
  {
   "cell_type": "code",
   "execution_count": 78,
   "metadata": {},
   "outputs": [
    {
     "name": "stdout",
     "output_type": "stream",
     "text": [
      "(1600,)\n",
      "(1600,)\n",
      "(400,)\n",
      "(400,)\n"
     ]
    }
   ],
   "source": [
    "print(X_train.shape)\n",
    "print(Y_train.shape)\n",
    "print(X_test.shape)\n",
    "print(X_test.shape)"
   ]
  },
  {
   "cell_type": "code",
   "execution_count": 86,
   "metadata": {},
   "outputs": [
    {
     "name": "stdout",
     "output_type": "stream",
     "text": [
      "1600\n"
     ]
    },
    {
     "name": "stderr",
     "output_type": "stream",
     "text": [
      "C:\\Users\\konya\\Anaconda3\\lib\\site-packages\\ipykernel_launcher.py:6: UserWarning: Update your `LSTM` call to the Keras 2 API: `LSTM(activation=\"sigmoid\", recurrent_activation=\"hard_sigmoid\", return_sequences=True, units=256)`\n",
      "  \n",
      "C:\\Users\\konya\\Anaconda3\\lib\\site-packages\\ipykernel_launcher.py:8: UserWarning: Update your `LSTM` call to the Keras 2 API: `LSTM(activation=\"sigmoid\", recurrent_activation=\"hard_sigmoid\", units=256)`\n",
      "  \n"
     ]
    },
    {
     "name": "stdout",
     "output_type": "stream",
     "text": [
      "Train on 1280 samples, validate on 320 samples\n",
      "Epoch 1/10\n",
      "1280/1280 [==============================] - 6s 5ms/step - loss: 0.7429 - acc: 0.5008 - val_loss: 0.7524 - val_acc: 0.4750\n",
      "Epoch 2/10\n",
      "1280/1280 [==============================] - 2s 2ms/step - loss: 0.7196 - acc: 0.4930 - val_loss: 0.6833 - val_acc: 0.7469\n",
      "Epoch 3/10\n",
      "1280/1280 [==============================] - 2s 2ms/step - loss: 0.6979 - acc: 0.5422 - val_loss: 0.6564 - val_acc: 0.7969\n",
      "Epoch 4/10\n",
      "1280/1280 [==============================] - 2s 2ms/step - loss: 0.6482 - acc: 0.6148 - val_loss: 0.5643 - val_acc: 0.7469\n",
      "Epoch 5/10\n",
      "1280/1280 [==============================] - 2s 2ms/step - loss: 0.5397 - acc: 0.7344 - val_loss: 0.5452 - val_acc: 0.7625\n",
      "Epoch 6/10\n",
      "1280/1280 [==============================] - 2s 2ms/step - loss: 0.4668 - acc: 0.7914 - val_loss: 0.3961 - val_acc: 0.8312\n",
      "Epoch 7/10\n",
      "1280/1280 [==============================] - 2s 2ms/step - loss: 0.4082 - acc: 0.8078 - val_loss: 0.3649 - val_acc: 0.8531\n",
      "Epoch 8/10\n",
      "1280/1280 [==============================] - 2s 2ms/step - loss: 0.3683 - acc: 0.8289 - val_loss: 0.3407 - val_acc: 0.8406\n",
      "Epoch 9/10\n",
      "1280/1280 [==============================] - 2s 2ms/step - loss: 0.3644 - acc: 0.8398 - val_loss: 0.3355 - val_acc: 0.8375\n",
      "Epoch 10/10\n",
      "1280/1280 [==============================] - 2s 2ms/step - loss: 0.3536 - acc: 0.8484 - val_loss: 0.3360 - val_acc: 0.8594\n"
     ]
    }
   ],
   "source": [
    "model = create_model(train_size)\n",
    "\n",
    "hist = model.fit(encoded_X_train, Y_train, batch_size=50, epochs=10, validation_split = 0.2, verbose = 1)\n"
   ]
  },
  {
   "cell_type": "code",
   "execution_count": 88,
   "metadata": {},
   "outputs": [
    {
     "name": "stdout",
     "output_type": "stream",
     "text": [
      "400/400 [==============================] - 2s 4ms/step\n",
      "Test score: 0.45233742103679103\n",
      "Test accuracy: 0.7925\n"
     ]
    }
   ],
   "source": [
    "encoded_X_test = tokenizer.texts_to_matrix(X_test, mode='tfidf')\n",
    "score, acc = model.evaluate(encoded_X_test, Y_test, batch_size=1)\n",
    "print('Test score:', score)\n",
    "print('Test accuracy:', acc)"
   ]
  }
 ],
 "metadata": {
  "kernelspec": {
   "display_name": "Python 3",
   "language": "python",
   "name": "python3"
  }
 },
 "nbformat": 4,
 "nbformat_minor": 2
}
