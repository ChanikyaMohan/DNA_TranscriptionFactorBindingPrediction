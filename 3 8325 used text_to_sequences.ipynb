{
 "cells": [
  {
   "cell_type": "code",
   "execution_count": 2,
   "metadata": {},
   "outputs": [
    {
     "name": "stderr",
     "output_type": "stream",
     "text": [
      "C:\\Users\\konya\\Anaconda3\\lib\\site-packages\\h5py\\__init__.py:34: FutureWarning: Conversion of the second argument of issubdtype from `float` to `np.floating` is deprecated. In future, it will be treated as `np.float64 == np.dtype(float).type`.\n",
      "  from ._conv import register_converters as _register_converters\n",
      "Using TensorFlow backend.\n"
     ]
    }
   ],
   "source": [
    "from keras.layers import Dense, Dropout, LSTM, Embedding\n",
    "from keras.preprocessing.sequence import pad_sequences\n",
    "from keras.models import Sequential"
   ]
  },
  {
   "cell_type": "code",
   "execution_count": 3,
   "metadata": {
    "collapsed": true
   },
   "outputs": [],
   "source": [
    "import pandas as pd\n",
    "import numpy as np"
   ]
  },
  {
   "cell_type": "code",
   "execution_count": 30,
   "metadata": {},
   "outputs": [
    {
     "name": "stdout",
     "output_type": "stream",
     "text": [
      "2000\n"
     ]
    }
   ],
   "source": [
    "train_data = pd.read_csv(\"C:\\\\Users\\\\konya\\\\Desktop\\\\DNA TFBP\\\\DNA_TranscriptionFactorBindingPrediction\\\\data\\\\train.csv\");\n",
    "test_data = pd.read_csv(\"C:\\\\Users\\\\konya\\\\Desktop\\\\DNA TFBP\\\\DNA_TranscriptionFactorBindingPrediction\\\\data\\\\test.csv\");\n",
    "train_len = int(len(train_data))\n",
    "print(train_len)"
   ]
  },
  {
   "cell_type": "code",
   "execution_count": 110,
   "metadata": {},
   "outputs": [],
   "source": [
    "#split train data into train and validation data\n",
    "split_ratio = 0.8\n",
    "\n",
    "train_size = int( train_len * (split_ratio))\n",
    "\n",
    "#before taking partitions shuffle rows\n",
    "#this is because all same class tuples are grouped together\n",
    "train_data = train_data.sample(frac=1).reset_index(drop=False)\n",
    "\n",
    "X_train = np.array(train_data['sequence'][0:])\n",
    "Y_train = np.array(train_data['label'][0:])\n",
    "X_test = np.array(train_data['sequence'][train_size:])\n",
    "Y_test = np.array(train_data['label'][train_size:])\n"
   ]
  },
  {
   "cell_type": "code",
   "execution_count": 118,
   "metadata": {},
   "outputs": [
    {
     "name": "stdout",
     "output_type": "stream",
     "text": [
      "OrderedDict([('C', 6904), ('T', 5713), ('G', 9361), ('A', 6022)])\n",
      "2000\n",
      "{'G': 1, 'C': 2, 'A': 3, 'T': 4}\n",
      "{'T': 1710, 'A': 1787, 'G': 1905, 'C': 1899}\n",
      "[2, 2, 4, 1, 2, 4, 1, 2, 3, 2, 4, 1, 2, 4]\n"
     ]
    }
   ],
   "source": [
    "#preprocessing of DNA sequences\n",
    "from keras.preprocessing.text import Tokenizer\n",
    "tokenizer = Tokenizer(split='', char_level=True)\n",
    "tokenizer.fit_on_texts(X_train)\n",
    "\n",
    "print(tokenizer.word_counts)\n",
    "print(tokenizer.document_count)\n",
    "print(tokenizer.word_index)\n",
    "print(tokenizer.word_docs)\n",
    "\n",
    "encoded_X_train = tokenizer.texts_to_sequences(X_train) #mode = freq,count,binary,tfidf\n",
    "print(encoded_X_train[0])"
   ]
  },
  {
   "cell_type": "code",
   "execution_count": 123,
   "metadata": {},
   "outputs": [],
   "source": [
    "#LSTM model in keras\n",
    "def model_init(input_length):\n",
    "    LSTM_model = Sequential()\n",
    "    print(input_length)\n",
    "    LSTM_model.add(Embedding(5,100, input_length = 14))\n",
    "    \n",
    "    LSTM_model.add(LSTM(activation=\"sigmoid\", recurrent_activation=\"hard_sigmoid\", return_sequences=True, units=256))\n",
    "    LSTM_model.add(LSTM(activation=\"sigmoid\", recurrent_activation=\"hard_sigmoid\", units=256))\n",
    "    LSTM_model.add(Dense(1, activation='sigmoid'))\n",
    "\n",
    "\n",
    "    LSTM_model.compile(loss='binary_crossentropy', optimizer='rmsprop', metrics=['accuracy'])\n",
    "    return LSTM_model"
   ]
  },
  {
   "cell_type": "code",
   "execution_count": 124,
   "metadata": {},
   "outputs": [
    {
     "name": "stdout",
     "output_type": "stream",
     "text": [
      "(2000,)\n",
      "(2000,)\n",
      "(400,)\n",
      "(400,)\n"
     ]
    }
   ],
   "source": [
    "print(X_train.shape)\n",
    "print(Y_train.shape)\n",
    "print(X_test.shape)\n",
    "print(X_test.shape)"
   ]
  },
  {
   "cell_type": "code",
   "execution_count": 125,
   "metadata": {},
   "outputs": [
    {
     "name": "stdout",
     "output_type": "stream",
     "text": [
      "2000\n",
      "Train on 1600 samples, validate on 400 samples\n",
      "Epoch 1/15\n",
      "1600/1600 [==============================] - 12s 7ms/step - loss: 0.7202 - acc: 0.5287 - val_loss: 0.6832 - val_acc: 0.5075\n",
      "Epoch 2/15\n",
      "1600/1600 [==============================] - 6s 4ms/step - loss: 0.5801 - acc: 0.7075 - val_loss: 0.4826 - val_acc: 0.7675\n",
      "Epoch 3/15\n",
      "1600/1600 [==============================] - 6s 4ms/step - loss: 0.3921 - acc: 0.8269 - val_loss: 0.3610 - val_acc: 0.8375\n",
      "Epoch 4/15\n",
      "1600/1600 [==============================] - 6s 4ms/step - loss: 0.3818 - acc: 0.8337 - val_loss: 0.3487 - val_acc: 0.8425\n",
      "Epoch 5/15\n",
      "1600/1600 [==============================] - 6s 4ms/step - loss: 0.3700 - acc: 0.8381 - val_loss: 0.3765 - val_acc: 0.8375\n",
      "Epoch 6/15\n",
      "1600/1600 [==============================] - 6s 4ms/step - loss: 0.3541 - acc: 0.8506 - val_loss: 0.3516 - val_acc: 0.8450\n",
      "Epoch 7/15\n",
      "1600/1600 [==============================] - 6s 4ms/step - loss: 0.3507 - acc: 0.8513 - val_loss: 0.3483 - val_acc: 0.8525\n",
      "Epoch 8/15\n",
      "1600/1600 [==============================] - 6s 4ms/step - loss: 0.3456 - acc: 0.8506 - val_loss: 0.3486 - val_acc: 0.8425\n",
      "Epoch 9/15\n",
      "1600/1600 [==============================] - 6s 4ms/step - loss: 0.3429 - acc: 0.8494 - val_loss: 0.3414 - val_acc: 0.8500\n",
      "Epoch 10/15\n",
      "1600/1600 [==============================] - 6s 4ms/step - loss: 0.3445 - acc: 0.8500 - val_loss: 0.3563 - val_acc: 0.8475\n",
      "Epoch 11/15\n",
      "1600/1600 [==============================] - 6s 4ms/step - loss: 0.3443 - acc: 0.8544 - val_loss: 0.3500 - val_acc: 0.8375\n",
      "Epoch 12/15\n",
      "1600/1600 [==============================] - 6s 4ms/step - loss: 0.3392 - acc: 0.8519 - val_loss: 0.3419 - val_acc: 0.8525\n",
      "Epoch 13/15\n",
      "1600/1600 [==============================] - 6s 4ms/step - loss: 0.3375 - acc: 0.8525 - val_loss: 0.3444 - val_acc: 0.8650\n",
      "Epoch 14/15\n",
      "1600/1600 [==============================] - 6s 4ms/step - loss: 0.3355 - acc: 0.8625 - val_loss: 0.3465 - val_acc: 0.8450\n",
      "Epoch 15/15\n",
      "1600/1600 [==============================] - 6s 4ms/step - loss: 0.3300 - acc: 0.8525 - val_loss: 0.3635 - val_acc: 0.8325\n"
     ]
    }
   ],
   "source": [
    "model = model_init(train_len)\n",
    "\n",
    "trained_model = model.fit(np.array(encoded_X_train), np.array(Y_train), batch_size=50, epochs=15, validation_split = 0.2, verbose = 1)\n"
   ]
  },
  {
   "cell_type": "code",
   "execution_count": 128,
   "metadata": {},
   "outputs": [
    {
     "name": "stdout",
     "output_type": "stream",
     "text": [
      "400/400 [==============================] - 3s 7ms/step\n",
      "Score: 0.36351244868244975\n",
      "Accuracy: 0.8325\n"
     ]
    }
   ],
   "source": [
    "encoded_X_test = tokenizer.texts_to_sequences(X_test)\n",
    "score, accuracy = model.evaluate(np.array(encoded_X_test), np.array(Y_test), batch_size=1)\n",
    "print('Score:', score)\n",
    "print('Accuracy:', accuracy)"
   ]
  }
 ],
 "metadata": {
  "kernelspec": {
   "display_name": "Python 3",
   "language": "python",
   "name": "python3"
  }
 },
 "nbformat": 4,
 "nbformat_minor": 2
}
