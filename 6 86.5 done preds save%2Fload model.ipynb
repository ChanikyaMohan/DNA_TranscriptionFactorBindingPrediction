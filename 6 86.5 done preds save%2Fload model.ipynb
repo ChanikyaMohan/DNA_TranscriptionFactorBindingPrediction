{
 "cells": [
  {
   "cell_type": "code",
   "execution_count": 22,
   "metadata": {
    "collapsed": true
   },
   "outputs": [],
   "source": [
    "from keras.layers import Dense, Dropout, LSTM, Embedding\n",
    "from keras.preprocessing.sequence import pad_sequences\n",
    "from keras.models import Sequential"
   ]
  },
  {
   "cell_type": "code",
   "execution_count": 23,
   "metadata": {
    "collapsed": true
   },
   "outputs": [],
   "source": [
    "import pandas as pd\n",
    "import numpy as np"
   ]
  },
  {
   "cell_type": "code",
   "execution_count": 24,
   "metadata": {},
   "outputs": [
    {
     "name": "stdout",
     "output_type": "stream",
     "text": [
      "2000\n"
     ]
    }
   ],
   "source": [
    "train_data = pd.read_csv(\"C:\\\\Users\\\\konya\\\\Desktop\\\\DNA_TFBP\\\\DNA_TranscriptionFactorBindingPrediction\\\\data\\\\train.csv\");\n",
    "test_data = pd.read_csv(\"C:\\\\Users\\\\konya\\\\Desktop\\\\DNA_TFBP\\\\DNA_TranscriptionFactorBindingPrediction\\\\data\\\\test.csv\");\n",
    "train_len = int(len(train_data))\n",
    "print(train_len)"
   ]
  },
  {
   "cell_type": "code",
   "execution_count": 25,
   "metadata": {
    "collapsed": true
   },
   "outputs": [],
   "source": [
    "#split train data into train and validation data\n",
    "split_ratio = 0.8\n",
    "\n",
    "train_size = int( train_len * (split_ratio))\n",
    "\n",
    "#before taking partitions shuffle rows\n",
    "#this is because all same class tuples are grouped together\n",
    "train_data = train_data.sample(frac=1).reset_index(drop=False)\n",
    "\n",
    "X_train = np.array(train_data['sequence'][0:])\n",
    "Y_train = np.array(train_data['label'][0:])\n",
    "X_test = np.array(train_data['sequence'][train_size:])\n",
    "Y_test = np.array(train_data['label'][train_size:])\n"
   ]
  },
  {
   "cell_type": "code",
   "execution_count": 26,
   "metadata": {},
   "outputs": [
    {
     "name": "stdout",
     "output_type": "stream",
     "text": [
      "OrderedDict([('T', 5713), ('G', 9361), ('A', 6022), ('C', 6904)])\n",
      "2000\n",
      "{'G': 1, 'C': 2, 'A': 3, 'T': 4}\n",
      "{'T': 1710, 'C': 1899, 'A': 1787, 'G': 1905}\n",
      "[4, 4, 1, 3, 3, 2, 2, 4, 4, 3, 2, 4, 3, 3]\n"
     ]
    }
   ],
   "source": [
    "#preprocessing of DNA sequences\n",
    "from keras.preprocessing.text import Tokenizer\n",
    "from keras import optimizers\n",
    "\n",
    "tokenizer = Tokenizer(split='', char_level=True)\n",
    "tokenizer.fit_on_texts(X_train)\n",
    "\n",
    "print(tokenizer.word_counts)\n",
    "print(tokenizer.document_count)\n",
    "print(tokenizer.word_index)\n",
    "print(tokenizer.word_docs)\n",
    "\n",
    "encoded_X_train = tokenizer.texts_to_sequences(X_train) #mode for text_to_matrix = freq,count,binary,tfidf\n",
    "print(encoded_X_train[0])"
   ]
  },
  {
   "cell_type": "code",
   "execution_count": 47,
   "metadata": {
    "collapsed": true
   },
   "outputs": [],
   "source": [
    "embedding_matrix = np.zeros((5, 4))\n",
    "embedding_matrix[1][0] = 1\n",
    "embedding_matrix[2][1] = 1\n",
    "embedding_matrix[3][2] = 1\n",
    "embedding_matrix[4][3] = 1"
   ]
  },
  {
   "cell_type": "code",
   "execution_count": 64,
   "metadata": {
    "collapsed": true
   },
   "outputs": [],
   "source": [
    "#LSTM model in keras\n",
    "def model_init(input_length):\n",
    "    LSTM_model = Sequential()\n",
    "    print(input_length)\n",
    "    LSTM_model.add(Embedding(5,4, weights=[embedding_matrix],\n",
    "                            input_length=14,\n",
    "                            trainable=False))\n",
    "    \n",
    "    LSTM_model.add(LSTM(activation=\"sigmoid\", inner_activation='hard_sigmoid', return_sequences=True, units=256))\n",
    "    LSTM_model.add(LSTM(activation=\"sigmoid\",inner_activation='hard_sigmoid', units=256))\n",
    "    LSTM_model.add(Dense(1, activation='sigmoid'))\n",
    "\n",
    "    LSTM_model.compile(loss='binary_crossentropy', optimizer='adagrad', metrics=['accuracy'])\n",
    "    return LSTM_model"
   ]
  },
  {
   "cell_type": "code",
   "execution_count": 45,
   "metadata": {},
   "outputs": [
    {
     "name": "stdout",
     "output_type": "stream",
     "text": [
      "(2000,)\n",
      "(2000,)\n",
      "(400,)\n",
      "(400,)\n"
     ]
    }
   ],
   "source": [
    "print(X_train.shape)\n",
    "print(Y_train.shape)\n",
    "print(X_test.shape)\n",
    "print(X_test.shape)"
   ]
  },
  {
   "cell_type": "code",
   "execution_count": 65,
   "metadata": {},
   "outputs": [
    {
     "name": "stdout",
     "output_type": "stream",
     "text": [
      "2000\n"
     ]
    },
    {
     "name": "stderr",
     "output_type": "stream",
     "text": [
      "C:\\Users\\konya\\Anaconda3\\lib\\site-packages\\ipykernel_launcher.py:9: UserWarning: Update your `LSTM` call to the Keras 2 API: `LSTM(activation=\"sigmoid\", return_sequences=True, units=256, recurrent_activation=\"hard_sigmoid\")`\n",
      "  if __name__ == '__main__':\n",
      "C:\\Users\\konya\\Anaconda3\\lib\\site-packages\\ipykernel_launcher.py:10: UserWarning: Update your `LSTM` call to the Keras 2 API: `LSTM(activation=\"sigmoid\", units=256, recurrent_activation=\"hard_sigmoid\")`\n",
      "  # Remove the CWD from sys.path while we load stuff.\n"
     ]
    },
    {
     "name": "stdout",
     "output_type": "stream",
     "text": [
      "Train on 1600 samples, validate on 400 samples\n",
      "Epoch 1/15\n",
      "1600/1600 [==============================] - 17s 10ms/step - loss: 0.7333 - acc: 0.4950 - val_loss: 0.6959 - val_acc: 0.5050\n",
      "Epoch 2/15\n",
      "1600/1600 [==============================] - 14s 9ms/step - loss: 0.5925 - acc: 0.6731 - val_loss: 0.3484 - val_acc: 0.8625\n",
      "Epoch 3/15\n",
      "1600/1600 [==============================] - 14s 9ms/step - loss: 0.4011 - acc: 0.8206 - val_loss: 0.2916 - val_acc: 0.8900\n",
      "Epoch 4/15\n",
      "1600/1600 [==============================] - 14s 9ms/step - loss: 0.3669 - acc: 0.8431 - val_loss: 0.3109 - val_acc: 0.8675\n",
      "Epoch 5/15\n",
      "1600/1600 [==============================] - 14s 9ms/step - loss: 0.3579 - acc: 0.8369 - val_loss: 0.2842 - val_acc: 0.8875\n",
      "Epoch 6/15\n",
      "1600/1600 [==============================] - 14s 9ms/step - loss: 0.3554 - acc: 0.8437 - val_loss: 0.2832 - val_acc: 0.9025\n",
      "Epoch 7/15\n",
      "1600/1600 [==============================] - 14s 9ms/step - loss: 0.3565 - acc: 0.8456 - val_loss: 0.2809 - val_acc: 0.8875\n",
      "Epoch 8/15\n",
      "1600/1600 [==============================] - 14s 9ms/step - loss: 0.3446 - acc: 0.8494 - val_loss: 0.2966 - val_acc: 0.8725\n",
      "Epoch 9/15\n",
      "1600/1600 [==============================] - 14s 9ms/step - loss: 0.3513 - acc: 0.8400 - val_loss: 0.2685 - val_acc: 0.8925\n",
      "Epoch 10/15\n",
      "1600/1600 [==============================] - 14s 9ms/step - loss: 0.3476 - acc: 0.8575 - val_loss: 0.2727 - val_acc: 0.8950\n",
      "Epoch 11/15\n",
      "1600/1600 [==============================] - 15s 9ms/step - loss: 0.3444 - acc: 0.8481 - val_loss: 0.3381 - val_acc: 0.8375\n",
      "Epoch 12/15\n",
      "1600/1600 [==============================] - 15s 9ms/step - loss: 0.3466 - acc: 0.8531 - val_loss: 0.2672 - val_acc: 0.9025\n",
      "Epoch 13/15\n",
      "1600/1600 [==============================] - 15s 9ms/step - loss: 0.3498 - acc: 0.8444 - val_loss: 0.2708 - val_acc: 0.8950\n",
      "Epoch 14/15\n",
      "1600/1600 [==============================] - 15s 9ms/step - loss: 0.3434 - acc: 0.8519 - val_loss: 0.2953 - val_acc: 0.8800\n",
      "Epoch 15/15\n",
      "1600/1600 [==============================] - 15s 9ms/step - loss: 0.3429 - acc: 0.8531 - val_loss: 0.2652 - val_acc: 0.8950\n"
     ]
    }
   ],
   "source": [
    "model = model_init(train_len)\n",
    "\n",
    "trained_model = model.fit(np.array(encoded_X_train), np.array(Y_train), batch_size=10, epochs=15, validation_split = 0.2, verbose = 1)\n"
   ]
  },
  {
   "cell_type": "code",
   "execution_count": 66,
   "metadata": {},
   "outputs": [
    {
     "name": "stdout",
     "output_type": "stream",
     "text": [
      "dict_keys(['val_loss', 'val_acc', 'loss', 'acc'])\n"
     ]
    },
    {
     "data": {
      "image/png": "[encoded data removed]",
      "text/plain": [
       "<matplotlib.figure.Figure at 0x27427c9cf98>"
      ]
     },
     "metadata": {},
     "output_type": "display_data"
    },
    {
     "data": {
      "image/png": "[encoded data removed]",
      "text/plain": [
       "<matplotlib.figure.Figure at 0x27427c75c18>"
      ]
     },
     "metadata": {},
     "output_type": "display_data"
    }
   ],
   "source": [
    "import matplotlib.pyplot as plt\n",
    "print(trained_model.history.keys())\n",
    "# summarize history for accuracy\n",
    "plt.plot(trained_model.history['acc'])\n",
    "plt.plot(trained_model.history['val_acc'])\n",
    "plt.title('model Accuracy')\n",
    "plt.ylabel('accuracy')\n",
    "plt.xlabel('epoch')\n",
    "plt.legend(['train', 'validation'], loc='upper left')\n",
    "plt.show()\n",
    "# summarize history for loss\n",
    "plt.plot(trained_model.history['loss'])\n",
    "plt.plot(trained_model.history['val_loss'])\n",
    "plt.title('Model Loss')\n",
    "plt.ylabel('loss')\n",
    "plt.xlabel('epoch')\n",
    "plt.legend(['train', 'validation'], loc='upper left')\n",
    "plt.show()"
   ]
  },
  {
   "cell_type": "code",
   "execution_count": 67,
   "metadata": {},
   "outputs": [
    {
     "name": "stdout",
     "output_type": "stream",
     "text": [
      "400/400 [==============================] - 2s 6ms/step\n",
      "Score: 0.26523042454151435\n",
      "Accuracy: 0.895\n"
     ]
    }
   ],
   "source": [
    "encoded_X_test = tokenizer.texts_to_sequences(X_test)\n",
    "score, accuracy = model.evaluate(np.array(encoded_X_test), np.array(Y_test), batch_size=1)\n",
    "print('Score:', score)\n",
    "print('Accuracy:', accuracy)"
   ]
  },
  {
   "cell_type": "code",
   "execution_count": 32,
   "metadata": {
    "collapsed": true
   },
   "outputs": [],
   "source": [
    "from keras.models import model_from_json\n",
    "\n",
    "model_JSON = model.to_json()\n",
    "with open(\"C:\\\\Users\\\\konya\\\\Desktop\\\\DNA_TFBP\\\\DNA_TranscriptionFactorBindingPrediction\\\\models\\\\model_JSON.json\",\"w\") as json_file:\n",
    "    json_file.write(model_JSON)\n",
    "model.save_weights(\"C:\\\\Users\\\\konya\\\\Desktop\\\\DNA_TFBP\\\\DNA_TranscriptionFactorBindingPrediction\\\\models\\\\model_WEIGHTS.h5\")\n",
    "model.save(\"C:\\\\Users\\\\konya\\\\Desktop\\\\DNA_TFBP\\\\DNA_TranscriptionFactorBindingPrediction\\\\models\\\\model_model.h5\")"
   ]
  },
  {
   "cell_type": "code",
   "execution_count": 34,
   "metadata": {},
   "outputs": [
    {
     "name": "stdout",
     "output_type": "stream",
     "text": [
      "submission file ready!\n"
     ]
    }
   ],
   "source": [
    "sub_X_test =  np.array(test_data['sequence'][0:])\n",
    "encoded_sub_X_test = tokenizer.texts_to_sequences(sub_X_test)\n",
    "#preds = model.predict(np.array(encoded_sub_X_test))\n",
    "#print(preds[:10])\n",
    "preds = model.predict_classes(np.array(encoded_sub_X_test))\n",
    "\n",
    "sub_df = pd.DataFrame(data=preds,columns={\"prediction\"})\n",
    "sub_df.to_csv(path_or_buf=\"C:\\\\Users\\\\konya\\\\Desktop\\\\DNA_TFBP\\\\DNA_TranscriptionFactorBindingPrediction\\\\results\\\\sub90.csv\", columns={\"prediction\"}, header=True, index=True, index_label=\"id\")\n",
    "print(\"submission file ready!\")"
   ]
  },
  {
   "cell_type": "code",
   "execution_count": 35,
   "metadata": {},
   "outputs": [
    {
     "name": "stdout",
     "output_type": "stream",
     "text": [
      "Loaded model from disk\n",
      "[[1]\n",
      " [0]\n",
      " [1]\n",
      " [0]\n",
      " [0]\n",
      " [0]\n",
      " [1]\n",
      " [0]\n",
      " [1]\n",
      " [0]]\n"
     ]
    }
   ],
   "source": [
    "#load saved model and predict\n",
    "# load json and create model\n",
    "json_file = open(\"C:\\\\Users\\\\konya\\\\Desktop\\\\DNA_TFBP\\\\DNA_TranscriptionFactorBindingPrediction\\\\models\\\\model_JSON.json\", 'r')\n",
    "loaded_model_json = json_file.read()\n",
    "json_file.close()\n",
    "loaded_model = model_from_json(loaded_model_json)\n",
    "# load weights into new model\n",
    "loaded_model.load_weights(\"C:\\\\Users\\\\konya\\\\Desktop\\\\DNA_TFBP\\\\DNA_TranscriptionFactorBindingPrediction\\\\models\\\\model_WEIGHTS.h5\")\n",
    "print(\"Loaded model from disk\")\n",
    "\n",
    "#predict using loaded model\n",
    "preds_loaded = loaded_model.predict_classes(np.array(encoded_sub_X_test))\n",
    "print(preds_loaded[:10])\n"
   ]
  }
 ],
 "metadata": {
  "kernelspec": {
   "display_name": "Python 3",
   "language": "python",
   "name": "python3"
  },
  "language_info": {
   "codemirror_mode": {
    "name": "ipython",
    "version": 3
   },
   "file_extension": ".py",
   "mimetype": "text/x-python",
   "name": "python",
   "nbconvert_exporter": "python",
   "pygments_lexer": "ipython3",
   "version": "3.6.3"
  }
 },
 "nbformat": 4,
 "nbformat_minor": 2
}
