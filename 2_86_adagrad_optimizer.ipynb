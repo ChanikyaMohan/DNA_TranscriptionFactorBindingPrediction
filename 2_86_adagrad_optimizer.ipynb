{
 "cells": [
  {
   "cell_type": "code",
   "execution_count": 2,
   "metadata": {},
   "outputs": [
    {
     "name": "stderr",
     "output_type": "stream",
     "text": [
      "C:\\Users\\konya\\Anaconda3\\lib\\site-packages\\h5py\\__init__.py:34: FutureWarning: Conversion of the second argument of issubdtype from `float` to `np.floating` is deprecated. In future, it will be treated as `np.float64 == np.dtype(float).type`.\n",
      "  from ._conv import register_converters as _register_converters\n",
      "Using TensorFlow backend.\n"
     ]
    }
   ],
   "source": [
    "from keras.layers import Dense, Dropout, LSTM, Embedding\n",
    "from keras.preprocessing.sequence import pad_sequences\n",
    "from keras.models import Sequential"
   ]
  },
  {
   "cell_type": "code",
   "execution_count": 3,
   "metadata": {
    "collapsed": true
   },
   "outputs": [],
   "source": [
    "import pandas as pd\n",
    "import numpy as np"
   ]
  },
  {
   "cell_type": "code",
   "execution_count": 30,
   "metadata": {},
   "outputs": [
    {
     "name": "stdout",
     "output_type": "stream",
     "text": [
      "2000\n"
     ]
    }
   ],
   "source": [
    "train_data = pd.read_csv(\"C:\\\\Users\\\\konya\\\\Desktop\\\\DNA TFBP\\\\DNA_TranscriptionFactorBindingPrediction\\\\data\\\\train.csv\");\n",
    "test_data = pd.read_csv(\"C:\\\\Users\\\\konya\\\\Desktop\\\\DNA TFBP\\\\DNA_TranscriptionFactorBindingPrediction\\\\data\\\\test.csv\");\n",
    "train_len = int(len(train_data))\n",
    "print(train_len)"
   ]
  },
  {
   "cell_type": "code",
   "execution_count": 110,
   "metadata": {},
   "outputs": [],
   "source": [
    "#split train data into train and validation data\n",
    "split_ratio = 0.8\n",
    "\n",
    "train_size = int( train_len * (split_ratio))\n",
    "\n",
    "#before taking partitions shuffle rows\n",
    "#this is because all same class tuples are grouped together\n",
    "train_data = train_data.sample(frac=1).reset_index(drop=False)\n",
    "\n",
    "X_train = np.array(train_data['sequence'][0:])\n",
    "Y_train = np.array(train_data['label'][0:])\n",
    "X_test = np.array(train_data['sequence'][train_size:])\n",
    "Y_test = np.array(train_data['label'][train_size:])\n"
   ]
  },
  {
   "cell_type": "code",
   "execution_count": 118,
   "metadata": {},
   "outputs": [
    {
     "name": "stdout",
     "output_type": "stream",
     "text": [
      "OrderedDict([('C', 6904), ('T', 5713), ('G', 9361), ('A', 6022)])\n",
      "2000\n",
      "{'G': 1, 'C': 2, 'A': 3, 'T': 4}\n",
      "{'T': 1710, 'A': 1787, 'G': 1905, 'C': 1899}\n",
      "[2, 2, 4, 1, 2, 4, 1, 2, 3, 2, 4, 1, 2, 4]\n"
     ]
    }
   ],
   "source": [
    "#preprocessing of DNA sequences\n",
    "from keras.preprocessing.text import Tokenizer\n",
    "tokenizer = Tokenizer(split='', char_level=True)\n",
    "tokenizer.fit_on_texts(X_train)\n",
    "\n",
    "print(tokenizer.word_counts)\n",
    "print(tokenizer.document_count)\n",
    "print(tokenizer.word_index)\n",
    "print(tokenizer.word_docs)\n",
    "\n",
    "encoded_X_train = tokenizer.texts_to_sequences(X_train) #mode for text_to_matrix = freq,count,binary,tfidf\n",
    "print(encoded_X_train[0])"
   ]
  },
  {
   "cell_type": "code",
   "execution_count": 142,
   "metadata": {},
   "outputs": [],
   "source": [
    "#LSTM model in keras\n",
    "def model_init(input_length):\n",
    "    LSTM_model = Sequential()\n",
    "    print(input_length)\n",
    "    LSTM_model.add(Embedding(5,100, input_length = 14))\n",
    "    \n",
    "    LSTM_model.add(LSTM(activation=\"sigmoid\", recurrent_activation=\"hard_sigmoid\", return_sequences=True, units=256))\n",
    "    LSTM_model.add(LSTM(activation=\"sigmoid\", recurrent_activation=\"hard_sigmoid\", units=256))\n",
    "    LSTM_model.add(Dense(1, activation='sigmoid'))\n",
    "\n",
    "\n",
    "    LSTM_model.compile(loss='binary_crossentropy', optimizer='adagrad', metrics=['accuracy'])\n",
    "    return LSTM_model"
   ]
  },
  {
   "cell_type": "code",
   "execution_count": 124,
   "metadata": {},
   "outputs": [
    {
     "name": "stdout",
     "output_type": "stream",
     "text": [
      "(2000,)\n",
      "(2000,)\n",
      "(400,)\n",
      "(400,)\n"
     ]
    }
   ],
   "source": [
    "print(X_train.shape)\n",
    "print(Y_train.shape)\n",
    "print(X_test.shape)\n",
    "print(X_test.shape)"
   ]
  },
  {
   "cell_type": "code",
   "execution_count": 143,
   "metadata": {},
   "outputs": [
    {
     "name": "stdout",
     "output_type": "stream",
     "text": [
      "2000\n",
      "Train on 1600 samples, validate on 400 samples\n",
      "Epoch 1/15\n",
      "1600/1600 [==============================] - 25s 16ms/step - loss: 0.5691 - acc: 0.7175 - val_loss: 0.3735 - val_acc: 0.8550\n",
      "Epoch 2/15\n",
      "1600/1600 [==============================] - 20s 12ms/step - loss: 0.3494 - acc: 0.8512 - val_loss: 0.3896 - val_acc: 0.8150\n",
      "Epoch 3/15\n",
      "1600/1600 [==============================] - 20s 12ms/step - loss: 0.3320 - acc: 0.8575 - val_loss: 0.3432 - val_acc: 0.8625\n",
      "Epoch 4/15\n",
      "1600/1600 [==============================] - 20s 13ms/step - loss: 0.3305 - acc: 0.8575 - val_loss: 0.3471 - val_acc: 0.8500\n",
      "Epoch 5/15\n",
      "1600/1600 [==============================] - 20s 13ms/step - loss: 0.3327 - acc: 0.8531 - val_loss: 0.3380 - val_acc: 0.8625\n",
      "Epoch 6/15\n",
      "1600/1600 [==============================] - 20s 13ms/step - loss: 0.3245 - acc: 0.8637 - val_loss: 0.3661 - val_acc: 0.8350\n",
      "Epoch 7/15\n",
      "1600/1600 [==============================] - 20s 12ms/step - loss: 0.3237 - acc: 0.8556 - val_loss: 0.3509 - val_acc: 0.8500\n",
      "Epoch 8/15\n",
      "1600/1600 [==============================] - 20s 13ms/step - loss: 0.3241 - acc: 0.8625 - val_loss: 0.3559 - val_acc: 0.8525\n",
      "Epoch 9/15\n",
      "1600/1600 [==============================] - 20s 13ms/step - loss: 0.3218 - acc: 0.8594 - val_loss: 0.3378 - val_acc: 0.8575\n",
      "Epoch 10/15\n",
      "1600/1600 [==============================] - 20s 13ms/step - loss: 0.3196 - acc: 0.8619 - val_loss: 0.3386 - val_acc: 0.8625\n",
      "Epoch 11/15\n",
      "1600/1600 [==============================] - 20s 13ms/step - loss: 0.3197 - acc: 0.8587 - val_loss: 0.3370 - val_acc: 0.8550\n",
      "Epoch 12/15\n",
      "1600/1600 [==============================] - 20s 13ms/step - loss: 0.3183 - acc: 0.8619 - val_loss: 0.3386 - val_acc: 0.8600\n",
      "Epoch 13/15\n",
      "1600/1600 [==============================] - 20s 13ms/step - loss: 0.3186 - acc: 0.8650 - val_loss: 0.3398 - val_acc: 0.8650\n",
      "Epoch 14/15\n",
      "1600/1600 [==============================] - 20s 13ms/step - loss: 0.3185 - acc: 0.8600 - val_loss: 0.3483 - val_acc: 0.8600\n",
      "Epoch 15/15\n",
      "1600/1600 [==============================] - 21s 13ms/step - loss: 0.3183 - acc: 0.8625 - val_loss: 0.3403 - val_acc: 0.8600\n"
     ]
    }
   ],
   "source": [
    "model = model_init(train_len)\n",
    "\n",
    "trained_model = model.fit(np.array(encoded_X_train), np.array(Y_train), batch_size=10, epochs=15, validation_split = 0.2, verbose = 1)\n"
   ]
  },
  {
   "cell_type": "code",
   "execution_count": 144,
   "metadata": {},
   "outputs": [
    {
     "name": "stdout",
     "output_type": "stream",
     "text": [
      "400/400 [==============================] - 3s 7ms/step\n",
      "Score: 0.34033848020946605\n",
      "Accuracy: 0.86\n"
     ]
    }
   ],
   "source": [
    "encoded_X_test = tokenizer.texts_to_sequences(X_test)\n",
    "score, accuracy = model.evaluate(np.array(encoded_X_test), np.array(Y_test), batch_size=1)\n",
    "print('Score:', score)\n",
    "print('Accuracy:', accuracy)"
   ]
  },
  {
   "cell_type": "code",
   "execution_count": 145,
   "metadata": {},
   "outputs": [],
   "source": [
    "sub_X_test =  np.array(test_data['sequence'][0:])\n",
    "encoded_sub_X_test = tokenizer.texts_to_sequences(sub_X_test)\n",
    "#preds = model.predict(np.array(encoded_sub_X_test))\n",
    "#print(preds[:10])\n",
    "preds = model.predict_classes(np.array(encoded_sub_X_test))\n",
    "#print(preds[:10])"
   ]
  }
 ],
 "metadata": {
  "kernelspec": {
   "display_name": "Python 3",
   "language": "python",
   "name": "python3"
  }
 },
 "nbformat": 4,
 "nbformat_minor": 2
}
