{
 "cells": [
  {
   "cell_type": "code",
   "execution_count": 2,
   "metadata": {},
   "outputs": [
    {
     "name": "stderr",
     "output_type": "stream",
     "text": [
      "C:\\Users\\konya\\Anaconda3\\lib\\site-packages\\h5py\\__init__.py:34: FutureWarning: Conversion of the second argument of issubdtype from `float` to `np.floating` is deprecated. In future, it will be treated as `np.float64 == np.dtype(float).type`.\n",
      "  from ._conv import register_converters as _register_converters\n",
      "Using TensorFlow backend.\n"
     ]
    }
   ],
   "source": [
    "from keras.layers import Dense, Dropout, LSTM, Embedding\n",
    "from keras.preprocessing.sequence import pad_sequences\n",
    "from keras.models import Sequential"
   ]
  },
  {
   "cell_type": "code",
   "execution_count": 3,
   "metadata": {
    "collapsed": true
   },
   "outputs": [],
   "source": [
    "import pandas as pd\n",
    "import numpy as np"
   ]
  },
  {
   "cell_type": "code",
   "execution_count": 30,
   "metadata": {},
   "outputs": [
    {
     "name": "stdout",
     "output_type": "stream",
     "text": [
      "2000\n"
     ]
    }
   ],
   "source": [
    "train_data = pd.read_csv(\"C:\\\\Users\\\\konya\\\\Desktop\\\\DNA TFBP\\\\DNA_TranscriptionFactorBindingPrediction\\\\data\\\\train.csv\");\n",
    "test_data = pd.read_csv(\"C:\\\\Users\\\\konya\\\\Desktop\\\\DNA TFBP\\\\DNA_TranscriptionFactorBindingPrediction\\\\data\\\\test.csv\");\n",
    "train_len = int(len(train_data))\n",
    "print(train_len)"
   ]
  },
  {
   "cell_type": "code",
   "execution_count": 110,
   "metadata": {},
   "outputs": [],
   "source": [
    "#split train data into train and validation data\n",
    "split_ratio = 0.8\n",
    "\n",
    "train_size = int( train_len * (split_ratio))\n",
    "\n",
    "#before taking partitions shuffle rows\n",
    "#this is because all same class tuples are grouped together\n",
    "train_data = train_data.sample(frac=1).reset_index(drop=False)\n",
    "\n",
    "X_train = np.array(train_data['sequence'][0:])\n",
    "Y_train = np.array(train_data['label'][0:])\n",
    "X_test = np.array(train_data['sequence'][train_size:])\n",
    "Y_test = np.array(train_data['label'][train_size:])\n"
   ]
  },
  {
   "cell_type": "code",
   "execution_count": 146,
   "metadata": {},
   "outputs": [
    {
     "name": "stdout",
     "output_type": "stream",
     "text": [
      "OrderedDict([('C', 6904), ('T', 5713), ('G', 9361), ('A', 6022)])\n",
      "2000\n",
      "{'G': 1, 'C': 2, 'A': 3, 'T': 4}\n",
      "{'T': 1710, 'A': 1787, 'G': 1905, 'C': 1899}\n",
      "[2, 2, 4, 1, 2, 4, 1, 2, 3, 2, 4, 1, 2, 4]\n"
     ]
    }
   ],
   "source": [
    "#preprocessing of DNA sequences\n",
    "from keras.preprocessing.text import Tokenizer\n",
    "from keras import optimizers\n",
    "\n",
    "tokenizer = Tokenizer(split='', char_level=True)\n",
    "tokenizer.fit_on_texts(X_train)\n",
    "\n",
    "print(tokenizer.word_counts)\n",
    "print(tokenizer.document_count)\n",
    "print(tokenizer.word_index)\n",
    "print(tokenizer.word_docs)\n",
    "\n",
    "encoded_X_train = tokenizer.texts_to_sequences(X_train) #mode for text_to_matrix = freq,count,binary,tfidf\n",
    "print(encoded_X_train[0])"
   ]
  },
  {
   "cell_type": "code",
   "execution_count": 153,
   "metadata": {},
   "outputs": [],
   "source": [
    "#LSTM model in keras\n",
    "def model_init(input_length):\n",
    "    LSTM_model = Sequential()\n",
    "    print(input_length)\n",
    "    LSTM_model.add(Embedding(5,100, input_length = 14))\n",
    "    \n",
    "    LSTM_model.add(LSTM(activation=\"sigmoid\", recurrent_activation=\"hard_sigmoid\", return_sequences=True, units=256))\n",
    "    LSTM_model.add(LSTM(activation=\"sigmoid\", recurrent_activation=\"hard_sigmoid\", units=256))\n",
    "    LSTM_model.add(Dense(1, activation='sigmoid'))\n",
    "\n",
    "    LSTM_model.compile(loss='binary_crossentropy', optimizer='adagrad', metrics=['accuracy'])\n",
    "    return LSTM_model"
   ]
  },
  {
   "cell_type": "code",
   "execution_count": 124,
   "metadata": {},
   "outputs": [
    {
     "name": "stdout",
     "output_type": "stream",
     "text": [
      "(2000,)\n",
      "(2000,)\n",
      "(400,)\n",
      "(400,)\n"
     ]
    }
   ],
   "source": [
    "print(X_train.shape)\n",
    "print(Y_train.shape)\n",
    "print(X_test.shape)\n",
    "print(X_test.shape)"
   ]
  },
  {
   "cell_type": "code",
   "execution_count": 154,
   "metadata": {},
   "outputs": [
    {
     "name": "stdout",
     "output_type": "stream",
     "text": [
      "2000\n",
      "Train on 1600 samples, validate on 400 samples\n",
      "Epoch 1/15\n",
      "1600/1600 [==============================] - 27s 17ms/step - loss: 0.5895 - acc: 0.6788 - val_loss: 0.4075 - val_acc: 0.8425\n",
      "Epoch 2/15\n",
      "1600/1600 [==============================] - 23s 14ms/step - loss: 0.3591 - acc: 0.8456 - val_loss: 0.3550 - val_acc: 0.8500\n",
      "Epoch 3/15\n",
      "1600/1600 [==============================] - 23s 14ms/step - loss: 0.3363 - acc: 0.8519 - val_loss: 0.3779 - val_acc: 0.8450\n",
      "Epoch 4/15\n",
      "1600/1600 [==============================] - 22s 14ms/step - loss: 0.3306 - acc: 0.8619 - val_loss: 0.3388 - val_acc: 0.8625\n",
      "Epoch 5/15\n",
      "1600/1600 [==============================] - 22s 14ms/step - loss: 0.3240 - acc: 0.8550 - val_loss: 0.3520 - val_acc: 0.8625\n",
      "Epoch 6/15\n",
      "1600/1600 [==============================] - 22s 14ms/step - loss: 0.3267 - acc: 0.8600 - val_loss: 0.3595 - val_acc: 0.8625\n",
      "Epoch 7/15\n",
      "1600/1600 [==============================] - 23s 15ms/step - loss: 0.3249 - acc: 0.8600 - val_loss: 0.3424 - val_acc: 0.8550\n",
      "Epoch 8/15\n",
      "1600/1600 [==============================] - 24s 15ms/step - loss: 0.3240 - acc: 0.8562 - val_loss: 0.3391 - val_acc: 0.8600\n",
      "Epoch 9/15\n",
      "1600/1600 [==============================] - 24s 15ms/step - loss: 0.3204 - acc: 0.8562 - val_loss: 0.3378 - val_acc: 0.8650\n",
      "Epoch 10/15\n",
      "1600/1600 [==============================] - 24s 15ms/step - loss: 0.3205 - acc: 0.8656 - val_loss: 0.3428 - val_acc: 0.8625\n",
      "Epoch 11/15\n",
      "1600/1600 [==============================] - 24s 15ms/step - loss: 0.3193 - acc: 0.8669 - val_loss: 0.3399 - val_acc: 0.8575\n",
      "Epoch 12/15\n",
      "1600/1600 [==============================] - 24s 15ms/step - loss: 0.3150 - acc: 0.8700 - val_loss: 0.3428 - val_acc: 0.8625\n",
      "Epoch 13/15\n",
      "1600/1600 [==============================] - 24s 15ms/step - loss: 0.3180 - acc: 0.8575 - val_loss: 0.3413 - val_acc: 0.8600\n",
      "Epoch 14/15\n",
      "1600/1600 [==============================] - 24s 15ms/step - loss: 0.3205 - acc: 0.8644 - val_loss: 0.3371 - val_acc: 0.8625\n",
      "Epoch 15/15\n",
      "1600/1600 [==============================] - 24s 15ms/step - loss: 0.3169 - acc: 0.8650 - val_loss: 0.3358 - val_acc: 0.8650\n"
     ]
    }
   ],
   "source": [
    "model = model_init(train_len)\n",
    "\n",
    "trained_model = model.fit(np.array(encoded_X_train), np.array(Y_train), batch_size=10, epochs=15, validation_split = 0.2, verbose = 1)\n"
   ]
  },
  {
   "cell_type": "code",
   "execution_count": 155,
   "metadata": {},
   "outputs": [
    {
     "name": "stdout",
     "output_type": "stream",
     "text": [
      "400/400 [==============================] - 3s 8ms/step\n",
      "Score: 0.33581819218583403\n",
      "Accuracy: 0.865\n"
     ]
    }
   ],
   "source": [
    "encoded_X_test = tokenizer.texts_to_sequences(X_test)\n",
    "score, accuracy = model.evaluate(np.array(encoded_X_test), np.array(Y_test), batch_size=1)\n",
    "print('Score:', score)\n",
    "print('Accuracy:', accuracy)"
   ]
  },
  {
   "cell_type": "code",
   "execution_count": 160,
   "metadata": {},
   "outputs": [],
   "source": [
    "from keras.models import model_from_json\n",
    "\n",
    "model_JSON = model.to_json()\n",
    "with open(\"C:\\\\Users\\\\konya\\\\Desktop\\\\DNA TFBP\\\\DNA_TranscriptionFactorBindingPrediction\\\\models\\\\model_JSON.json\",\"w\") as json_file:\n",
    "    json_file.write(model_JSON)\n",
    "model.save_weights(\"C:\\\\Users\\\\konya\\\\Desktop\\\\DNA TFBP\\\\DNA_TranscriptionFactorBindingPrediction\\\\models\\\\model_WEIGHTS.h5\")\n",
    "model.save(\"C:\\\\Users\\\\konya\\\\Desktop\\\\DNA TFBP\\\\DNA_TranscriptionFactorBindingPrediction\\\\models\\\\model_model.h5\")"
   ]
  },
  {
   "cell_type": "code",
   "execution_count": 158,
   "metadata": {},
   "outputs": [
    {
     "name": "stdout",
     "output_type": "stream",
     "text": [
      "[[1]\n",
      " [0]\n",
      " [1]\n",
      " [0]\n",
      " [0]\n",
      " [0]\n",
      " [1]\n",
      " [0]\n",
      " [0]\n",
      " [0]]\n"
     ]
    }
   ],
   "source": [
    "sub_X_test =  np.array(test_data['sequence'][0:])\n",
    "encoded_sub_X_test = tokenizer.texts_to_sequences(sub_X_test)\n",
    "#preds = model.predict(np.array(encoded_sub_X_test))\n",
    "#print(preds[:10])\n",
    "preds = model.predict_classes(np.array(encoded_sub_X_test))\n",
    "print(preds[:10])\n",
    "\n",
    "sub_df = pd.DataFrame(data=preds,columns={\"prediction\"})\n",
    "sub_df.to_csv(path_or_buf=\"C:\\\\Users\\\\konya\\\\Desktop\\\\DNA TFBP\\\\DNA_TranscriptionFactorBindingPrediction\\\\results\\\\sub.csv\", columns={\"prediction\"}, header=True, index=True, index_label=\"id\")"
   ]
  },
  {
   "cell_type": "code",
   "execution_count": 162,
   "metadata": {},
   "outputs": [
    {
     "name": "stdout",
     "output_type": "stream",
     "text": [
      "Loaded model from disk\n",
      "[[1]\n",
      " [0]\n",
      " [1]\n",
      " [0]\n",
      " [0]\n",
      " [0]\n",
      " [1]\n",
      " [0]\n",
      " [0]\n",
      " [0]]\n"
     ]
    }
   ],
   "source": [
    "#load saved model and predict\n",
    "# load json and create model\n",
    "json_file = open(\"C:\\\\Users\\\\konya\\\\Desktop\\\\DNA TFBP\\\\DNA_TranscriptionFactorBindingPrediction\\\\models\\\\model_JSON.json\", 'r')\n",
    "loaded_model_json = json_file.read()\n",
    "json_file.close()\n",
    "loaded_model = model_from_json(loaded_model_json)\n",
    "# load weights into new model\n",
    "loaded_model.load_weights(\"C:\\\\Users\\\\konya\\\\Desktop\\\\DNA TFBP\\\\DNA_TranscriptionFactorBindingPrediction\\\\models\\\\model_WEIGHTS.h5\")\n",
    "print(\"Loaded model from disk\")\n",
    "\n",
    "#predict using loaded model\n",
    "preds_loaded = loaded_model.predict_classes(np.array(encoded_sub_X_test))\n",
    "print(preds_loaded[:10])\n"
   ]
  }
 ],
 "metadata": {
  "kernelspec": {
   "display_name": "Python 3",
   "language": "python",
   "name": "python3"
  }
 },
 "nbformat": 4,
 "nbformat_minor": 2
}
